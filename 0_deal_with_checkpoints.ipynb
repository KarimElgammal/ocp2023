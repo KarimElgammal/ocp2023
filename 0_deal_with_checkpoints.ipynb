{
 "cells": [
  {
   "cell_type": "markdown",
   "metadata": {},
   "source": [
    "# Here comes simple examples how to deal with the OCP checkpoints\n",
    "---------------------------------"
   ]
  },
  {
   "cell_type": "code",
   "execution_count": 2,
   "metadata": {},
   "outputs": [
    {
     "name": "stdout",
     "output_type": "stream",
     "text": [
      "Return the root directory of the installed ocp package.\n",
      "ocp_root\n",
      "/home/ubuntu/github/install_ocp/ocp\n",
      "Return the path to ocp main.py\n",
      "ocp_main\n",
      "/home/ubuntu/github/install_ocp/ocp/main.py\n",
      "/home/ubuntu/.pyenv/versions/miniconda3-latest/envs/ocp-models/bin/python 3.9.17 | packaged by conda-forge | (main, Aug 10 2023, 07:02:31) \n",
      "[GCC 12.3.0]\n",
      "ocp is installed at /home/ubuntu/github/install_ocp/ocp\n",
      "ocp repo is at git commit: 77c3e88\n",
      "numba: 0.57.1\n",
      "numpy: 1.24.4\n",
      "ase: 3.22.1\n",
      "e3nn: 0.4.4\n",
      "pymatgen: 2023.5.10\n",
      "torch: 1.13.1\n",
      "torch.version.cuda: 11.6\n",
      "torch.cuda: is_available: True\n",
      "  __CUDNN VERSION: 8302\n",
      "  __Number CUDA Devices: 1\n",
      "  __CUDA Device Name: NVIDIA A10G\n",
      "  __CUDA Device Total Memory [GB]: 23.659937792\n",
      "torch geometric: 2.2.0\n",
      "\n",
      "Platform: Linux-5.15.0-1040-aws-x86_64-with-glibc2.31\n",
      "  Processor: x86_64\n",
      "  Virtual memory: svmem(total=66698514432, available=63984947200, percent=4.1, used=1961934848, free=35718438912, active=2801201152, inactive=26140905472, buffers=442068992, cached=28576071680, shared=1024000, slab=1644175360)\n",
      "  Swap memory: sswap(total=0, used=0, free=0, percent=0.0, sin=0, sout=0)\n",
      "  Disk usage: sdiskusage(total=1065418129408, used=33561714688, free=1031839637504, percent=3.2)\n"
     ]
    }
   ],
   "source": [
    "%run related_scripts.ipynb"
   ]
  },
  {
   "cell_type": "code",
   "execution_count": 3,
   "metadata": {},
   "outputs": [],
   "source": [
    "#imports\n",
    "from ocpmodels.common.relaxation.ase_utils import OCPCalculator"
   ]
  },
  {
   "cell_type": "code",
   "execution_count": 4,
   "metadata": {},
   "outputs": [
    {
     "name": "stdout",
     "output_type": "stream",
     "text": [
      "See https://github.com/Open-Catalyst-Project/ocp/blob/main/MODELS.md for more details.\n",
      "CGCNN 200k\n",
      "CGCNN 2M\n",
      "CGCNN 20M\n",
      "CGCNN All\n",
      "DimeNet 200k\n",
      "DimeNet 2M\n",
      "SchNet 200k\n",
      "SchNet 2M\n",
      "SchNet 20M\n",
      "SchNet All\n",
      "DimeNet++ 200k\n",
      "DimeNet++ 2M\n",
      "DimeNet++ 20M\n",
      "DimeNet++ All\n",
      "SpinConv 2M\n",
      "SpinConv All\n",
      "GemNet-dT 2M\n",
      "GemNet-dT All\n",
      "PaiNN All\n",
      "GemNet-OC 2M\n",
      "GemNet-OC All\n",
      "GemNet-OC All+MD\n",
      "GemNet-OC-Large All+MD\n",
      "SCN 2M\n",
      "SCN-t4-b2 2M\n",
      "SCN All+MD\n",
      "eSCN-L4-M2-Lay12 2M\n",
      "eSCN-L6-M2-Lay12 2M\n",
      "eSCN-L6-M2-Lay12 All+MD\n",
      "eSCN-L6-M3-Lay20 All+MD\n",
      "EquiformerV2 (83M) 2M\n",
      "EquiformerV2 (31M) All+MD\n",
      "EquiformerV2 (153M) All+MD\n",
      "GemNet-dT OC22\n",
      "GemNet-OC OC22\n",
      "GemNet-OC OC20+OC22\n",
      "GemNet-OC trained with `enforce_max_neighbors_strictly=False` #467 OC20+OC22\n",
      "GemNet-OC OC20->OC22\n",
      "Copy one of these keys to get_checkpoint(key) to download it.\n"
     ]
    }
   ],
   "source": [
    "list_checkpoints()"
   ]
  },
  {
   "cell_type": "code",
   "execution_count": 5,
   "metadata": {},
   "outputs": [
    {
     "name": "stdout",
     "output_type": "stream",
     "text": [
      "Downloading https://dl.fbaipublicfiles.com/opencatalystproject/models/2023_03/s2ef/escn_l6_m3_lay20_all_md_s2ef.pt\n",
      "checkpoints/escn_l6_m3_lay20_all_md_s2ef.pt\n"
     ]
    }
   ],
   "source": [
    "checkpoint = get_checkpoint('eSCN-L6-M3-Lay20 All+MD')\n",
    "print(checkpoint)"
   ]
  },
  {
   "cell_type": "code",
   "execution_count": null,
   "metadata": {},
   "outputs": [],
   "source": [
    "calc = OCPCalculator(checkpoint=os.path.expanduser(checkpoint), cpu=False)"
   ]
  },
  {
   "cell_type": "markdown",
   "metadata": {},
   "source": [
    "Load the checkpoint and print relevant information."
   ]
  },
  {
   "cell_type": "markdown",
   "metadata": {},
   "source": []
  }
 ],
 "metadata": {
  "kernelspec": {
   "display_name": "ocp-models",
   "language": "python",
   "name": "python3"
  },
  "language_info": {
   "codemirror_mode": {
    "name": "ipython",
    "version": 3
   },
   "file_extension": ".py",
   "mimetype": "text/x-python",
   "name": "python",
   "nbconvert_exporter": "python",
   "pygments_lexer": "ipython3",
   "version": "3.9.17"
  },
  "orig_nbformat": 4
 },
 "nbformat": 4,
 "nbformat_minor": 2
}
