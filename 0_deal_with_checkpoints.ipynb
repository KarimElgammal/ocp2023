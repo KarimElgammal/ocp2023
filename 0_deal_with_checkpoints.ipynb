{
 "cells": [
  {
   "cell_type": "markdown",
   "metadata": {},
   "source": [
    "# Here comes simple examples how to deal with the OCP checkpoints\n",
    "---------------------------------"
   ]
  },
  {
   "cell_type": "code",
   "execution_count": null,
   "metadata": {},
   "outputs": [
    {
     "ename": "",
     "evalue": "",
     "output_type": "error",
     "traceback": [
      "\u001b[1;31mRunning cells with 'ocp-models' requires the ipykernel package.\n",
      "\u001b[1;31mRun the following command to install 'ipykernel' into the Python environment. \n",
      "\u001b[1;31mCommand: 'conda install -n ocp-models ipykernel --update-deps --force-reinstall'"
     ]
    }
   ],
   "source": [
    "%run related_scripts.ipynb"
   ]
  },
  {
   "cell_type": "code",
   "execution_count": 2,
   "metadata": {},
   "outputs": [],
   "source": [
    "#imports\n",
    "from ocpmodels.common.relaxation.ase_utils import OCPCalculator"
   ]
  },
  {
   "cell_type": "code",
   "execution_count": 7,
   "metadata": {},
   "outputs": [
    {
     "name": "stdout",
     "output_type": "stream",
     "text": [
      "See https://github.com/Open-Catalyst-Project/ocp/blob/main/MODELS.md for more details.\n",
      "CGCNN 200k\n",
      "CGCNN 2M\n",
      "CGCNN 20M\n",
      "CGCNN All\n",
      "DimeNet 200k\n",
      "DimeNet 2M\n",
      "SchNet 200k\n",
      "SchNet 2M\n",
      "SchNet 20M\n",
      "SchNet All\n",
      "DimeNet++ 200k\n",
      "DimeNet++ 2M\n",
      "DimeNet++ 20M\n",
      "DimeNet++ All\n",
      "SpinConv 2M\n",
      "SpinConv All\n",
      "GemNet-dT 2M\n",
      "GemNet-dT All\n",
      "PaiNN All\n",
      "GemNet-OC 2M\n",
      "GemNet-OC All\n",
      "GemNet-OC All+MD\n",
      "GemNet-OC-Large All+MD\n",
      "SCN 2M\n",
      "SCN-t4-b2 2M\n",
      "SCN All+MD\n",
      "eSCN-L4-M2-Lay12 2M\n",
      "eSCN-L6-M2-Lay12 2M\n",
      "eSCN-L6-M2-Lay12 All+MD\n",
      "eSCN-L6-M3-Lay20 All+MD\n",
      "EquiformerV2 (83M) 2M\n",
      "EquiformerV2 (31M) All+MD\n",
      "EquiformerV2 (153M) All+MD\n",
      "GemNet-dT OC22\n",
      "GemNet-OC OC22\n",
      "GemNet-OC OC20+OC22\n",
      "GemNet-OC trained with `enforce_max_neighbors_strictly=False` #467 OC20+OC22\n",
      "GemNet-OC OC20->OC22\n",
      "Copy one of these keys to get_checkpoint(key) to download it.\n"
     ]
    }
   ],
   "source": [
    "list_checkpoints()"
   ]
  },
  {
   "cell_type": "code",
   "execution_count": 6,
   "metadata": {},
   "outputs": [
    {
     "name": "stdout",
     "output_type": "stream",
     "text": [
      "checkpoints/escn_l6_m3_lay20_all_md_s2ef.pt\n"
     ]
    }
   ],
   "source": [
    "checkpoint = get_checkpoint('eSCN-L6-M3-Lay20 All+MD')\n",
    "print(checkpoint)"
   ]
  },
  {
   "cell_type": "code",
   "execution_count": 8,
   "metadata": {},
   "outputs": [],
   "source": [
    "calc = OCPCalculator(checkpoint=os.path.expanduser(checkpoint), cpu=False)"
   ]
  },
  {
   "cell_type": "markdown",
   "metadata": {},
   "source": [
    "Load the checkpoint and print relevant information."
   ]
  },
  {
   "cell_type": "markdown",
   "metadata": {},
   "source": []
  }
 ],
 "metadata": {
  "kernelspec": {
   "display_name": "ocp-models",
   "language": "python",
   "name": "python3"
  },
  "language_info": {
   "codemirror_mode": {
    "name": "ipython",
    "version": 3
   },
   "file_extension": ".py",
   "mimetype": "text/x-python",
   "name": "python",
   "nbconvert_exporter": "python",
   "pygments_lexer": "ipython3",
   "version": "3.9.17"
  },
  "orig_nbformat": 4
 },
 "nbformat": 4,
 "nbformat_minor": 2
}
